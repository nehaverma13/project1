{
  "nbformat": 4,
  "nbformat_minor": 0,
  "metadata": {
    "colab": {
      "provenance": [],
      "toc_visible": true,
      "authorship_tag": "ABX9TyPrYkU5Q7SCZ7zx7agoNXb8",
      "include_colab_link": true
    },
    "kernelspec": {
      "name": "python3",
      "display_name": "Python 3"
    },
    "language_info": {
      "name": "python"
    }
  },
  "cells": [
    {
      "cell_type": "markdown",
      "metadata": {
        "id": "view-in-github",
        "colab_type": "text"
      },
      "source": [
        "<a href=\"https://colab.research.google.com/github/nehaverma13/project1/blob/main/operator.ipynb\" target=\"_parent\"><img src=\"https://colab.research.google.com/assets/colab-badge.svg\" alt=\"Open In Colab\"/></a>"
      ]
    },
    {
      "cell_type": "markdown",
      "source": [
        "##operators in python"
      ],
      "metadata": {
        "id": "HtGX_LImi5yj"
      }
    },
    {
      "cell_type": "markdown",
      "source": [
        "Adding"
      ],
      "metadata": {
        "id": "T4G5ALRujF1k"
      }
    },
    {
      "cell_type": "code",
      "execution_count": 3,
      "metadata": {
        "colab": {
          "base_uri": "https://localhost:8080/"
        },
        "id": "yTG-6tGHc047",
        "outputId": "50b0967f-a038-4804-ca1a-a615cbf24740"
      },
      "outputs": [
        {
          "output_type": "stream",
          "name": "stdout",
          "text": [
            "3\n"
          ]
        }
      ],
      "source": [
        "a = 1\n",
        "b = 2\n",
        "print(a+b);"
      ]
    },
    {
      "cell_type": "markdown",
      "source": [
        "substract"
      ],
      "metadata": {
        "id": "Mb0fyzVKjJe1"
      }
    },
    {
      "cell_type": "code",
      "source": [
        "a = 20 \n",
        "b =30\n",
        "print(a-b);"
      ],
      "metadata": {
        "colab": {
          "base_uri": "https://localhost:8080/"
        },
        "id": "v5FxLXF2dQeR",
        "outputId": "7096c809-efbb-4033-b866-c195a28a7ca9"
      },
      "execution_count": 4,
      "outputs": [
        {
          "output_type": "stream",
          "name": "stdout",
          "text": [
            "-10\n"
          ]
        }
      ]
    },
    {
      "cell_type": "markdown",
      "source": [
        "multiply"
      ],
      "metadata": {
        "id": "gzbDxEjNjLp_"
      }
    },
    {
      "cell_type": "code",
      "source": [
        "a= 30 \n",
        "b=40\n",
        "print(a*b);"
      ],
      "metadata": {
        "colab": {
          "base_uri": "https://localhost:8080/"
        },
        "id": "Ykt-lALydbnb",
        "outputId": "0aa2292e-ee17-438c-c036-cdd09ed3b7fd"
      },
      "execution_count": 5,
      "outputs": [
        {
          "output_type": "stream",
          "name": "stdout",
          "text": [
            "1200\n"
          ]
        }
      ]
    },
    {
      "cell_type": "markdown",
      "source": [
        "Divide"
      ],
      "metadata": {
        "id": "DpIrxuJpjObh"
      }
    },
    {
      "cell_type": "code",
      "source": [
        "a= 40\n",
        "b=20\n",
        "print(a/b);"
      ],
      "metadata": {
        "colab": {
          "base_uri": "https://localhost:8080/"
        },
        "id": "IJKBmp1LdjWC",
        "outputId": "93233707-c842-4c47-c322-d1192fc390e4"
      },
      "execution_count": 6,
      "outputs": [
        {
          "output_type": "stream",
          "name": "stdout",
          "text": [
            "2.0\n"
          ]
        }
      ]
    },
    {
      "cell_type": "markdown",
      "source": [
        "Integer division"
      ],
      "metadata": {
        "id": "zC9KuiPXjQaO"
      }
    },
    {
      "cell_type": "code",
      "source": [
        "a= 50\n",
        "b= 30\n",
        "print(a//b);"
      ],
      "metadata": {
        "colab": {
          "base_uri": "https://localhost:8080/"
        },
        "id": "qQlDEcznemqk",
        "outputId": "e0a69d5d-7ed3-405b-ab38-3abc2b214c4e"
      },
      "execution_count": 7,
      "outputs": [
        {
          "output_type": "stream",
          "name": "stdout",
          "text": [
            "1\n"
          ]
        }
      ]
    }
  ]
}